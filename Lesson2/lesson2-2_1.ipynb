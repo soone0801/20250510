{
  "nbformat": 4,
  "nbformat_minor": 0,
  "metadata": {
    "colab": {
      "provenance": [],
      "include_colab_link": true
    },
    "kernelspec": {
      "name": "python3",
      "display_name": "Python 3"
    },
    "language_info": {
      "name": "python"
    }
  },
  "cells": [
    {
      "cell_type": "markdown",
      "metadata": {
        "id": "view-in-github",
        "colab_type": "text"
      },
      "source": [
        "<a href=\"https://colab.research.google.com/github/soone0801/20250510/blob/main/Lesson2/lesson2-2_1.ipynb\" target=\"_parent\"><img src=\"https://colab.research.google.com/assets/colab-badge.svg\" alt=\"Open In Colab\"/></a>"
      ]
    },
    {
      "cell_type": "markdown",
      "source": [
        "# python判斷\n"
      ],
      "metadata": {
        "id": "xRRoqMUA0d51"
      }
    },
    {
      "cell_type": "markdown",
      "source": [
        "# python的條件式\n",
        "## python的比較運算子\n",
        "Python 的比較運算子用來比較兩個值，並回傳布林值（True 或 False）。Python 支援以下主要的比較運算子：\n",
        "\n",
        "- `<` ：小於\n",
        "- `<=` ：小於等於\n",
        "- `>` ：大於\n",
        "- `>=` ：大於等於\n",
        "- `==` ：等於\n",
        "- `!=` ：不等於\n",
        "- `is` ：判斷兩個物件是否為同一個物件（物件識別）\n",
        "- `is not` ：判斷兩個物件是否不是同一個物件"
      ],
      "metadata": {
        "id": "Vlp7O1Mb0ozG"
      }
    },
    {
      "cell_type": "code",
      "source": [
        "5 == 5\n",
        "5 != 5\n",
        "5 is 5.0\n",
        "5 is 5\n",
        "5 is not 5.0\n",
        "5 is not 5"
      ],
      "metadata": {
        "id": "lgtpYLFk24CI",
        "outputId": "18a14f52-0605-4071-a308-eed30a9c6e0e",
        "colab": {
          "base_uri": "https://localhost:8080/"
        }
      },
      "execution_count": null,
      "outputs": [
        {
          "output_type": "stream",
          "name": "stderr",
          "text": [
            "<>:3: SyntaxWarning: \"is\" with a literal. Did you mean \"==\"?\n",
            "<>:4: SyntaxWarning: \"is\" with a literal. Did you mean \"==\"?\n",
            "<>:5: SyntaxWarning: \"is not\" with a literal. Did you mean \"!=\"?\n",
            "<>:6: SyntaxWarning: \"is not\" with a literal. Did you mean \"!=\"?\n",
            "<>:3: SyntaxWarning: \"is\" with a literal. Did you mean \"==\"?\n",
            "<>:4: SyntaxWarning: \"is\" with a literal. Did you mean \"==\"?\n",
            "<>:5: SyntaxWarning: \"is not\" with a literal. Did you mean \"!=\"?\n",
            "<>:6: SyntaxWarning: \"is not\" with a literal. Did you mean \"!=\"?\n",
            "<ipython-input-2-7caf102d8890>:3: SyntaxWarning: \"is\" with a literal. Did you mean \"==\"?\n",
            "  5 is 5.0\n",
            "<ipython-input-2-7caf102d8890>:4: SyntaxWarning: \"is\" with a literal. Did you mean \"==\"?\n",
            "  5 is 5\n",
            "<ipython-input-2-7caf102d8890>:5: SyntaxWarning: \"is not\" with a literal. Did you mean \"!=\"?\n",
            "  5 is not 5.0\n",
            "<ipython-input-2-7caf102d8890>:6: SyntaxWarning: \"is not\" with a literal. Did you mean \"!=\"?\n",
            "  5 is not 5\n"
          ]
        },
        {
          "output_type": "execute_result",
          "data": {
            "text/plain": [
              "False"
            ]
          },
          "metadata": {},
          "execution_count": 2
        }
      ]
    },
    {
      "cell_type": "code",
      "source": [
        "#單向選擇\n",
        "scores=8.7\n",
        "if scores>=60:\n",
        "  print(\"及格\")\n",
        "print(\"嫩\")"
      ],
      "metadata": {
        "id": "9rfogQua93pC",
        "outputId": "5ac4ec42-c74e-41a2-9c53-295c6cb9944e",
        "colab": {
          "base_uri": "https://localhost:8080/"
        }
      },
      "execution_count": 53,
      "outputs": [
        {
          "output_type": "stream",
          "name": "stdout",
          "text": [
            "嫩\n"
          ]
        }
      ]
    },
    {
      "cell_type": "code",
      "source": [
        "#雙向選擇\n",
        "scores=87\n",
        "if scores>=60:\n",
        "  print(\"及格\")\n",
        "else:\n",
        "  print(\"不及格\")"
      ],
      "metadata": {
        "colab": {
          "base_uri": "https://localhost:8080/"
        },
        "id": "P1v0cGTQ7kln",
        "outputId": "2c275035-c4e6-4e7a-8b11-cfcbe4e4e7ad"
      },
      "execution_count": 58,
      "outputs": [
        {
          "output_type": "stream",
          "name": "stdout",
          "text": [
            "及格\n"
          ]
        }
      ]
    },
    {
      "cell_type": "markdown",
      "source": [
        "## 小結\n",
        "\n",
        "| 條件式類型 | 語法範例                        | 說明                         |\n",
        "|------------|--------------------------------|------------------------------|\n",
        "| 單項式     | `if 條件:`<br>`    程式區塊`   | 條件成立才執行，否則跳過     |\n",
        "| 雙項式     | `if 條件:`<br>`    程式區塊`<br>`else:`<br>`    程式區塊` | 條件成立執行if區塊，否則執行else區塊 |\n",
        "\n",
        "---"
      ],
      "metadata": {
        "id": "HjTZNyjkFDqd"
      }
    },
    {
      "cell_type": "code",
      "source": [
        "#巢狀判斷\n",
        "scores=99\n",
        "if scores>=80:\n",
        "  print(\"不就好棒\")\n",
        "else:\n",
        "  if scores>=60:\n",
        "    print(\"遜\")\n",
        "  else:\n",
        "    print(\"嫩\")\n",
        "scores=76\n",
        "if scores>=80:\n",
        "  print(\"不就好棒\")\n",
        "else:\n",
        "  if scores>=60:\n",
        "    print(\"遜\")\n",
        "  else:\n",
        "    print(\"嫩\")\n",
        "scores=23\n",
        "if scores>=80:\n",
        "  print(\"不就好棒\")\n",
        "else:\n",
        "  if scores>=60:\n",
        "    print(\"遜\")\n",
        "  else:\n",
        "    print(\"嫩\")"
      ],
      "metadata": {
        "id": "WBJInAIZADTU",
        "outputId": "4d477abc-c1d9-4c8d-9f3e-cb1d033380c2",
        "colab": {
          "base_uri": "https://localhost:8080/"
        }
      },
      "execution_count": 48,
      "outputs": [
        {
          "output_type": "stream",
          "name": "stdout",
          "text": [
            "不就好棒\n",
            "遜\n",
            "嫩\n"
          ]
        }
      ]
    },
    {
      "cell_type": "markdown",
      "source": [
        "# python的多項選擇說明\n",
        "- 語法\n",
        "- 小範例\n",
        "- 繁體中文回覆\n",
        "\n",
        "---\n",
        "Python 的多項選擇結構（多向選擇）是利用多個 if-elif-else 來實現，讓程式可以根據不同條件執行不同的程式區塊。這種結構適合用來處理多種可能的條件判斷，並依據條件給出不同的結果。\n",
        "\n",
        "```\n",
        "if 條件判斷1:\n",
        "    條件判斷1成立時執行的程式碼\n",
        "elif 條件判斷2:\n",
        "    條件判斷2成立時執行的程式碼\n",
        "elif 條件判斷3:\n",
        "    條件判斷3成立時執行的程式碼\n",
        "...\n",
        "else:\n",
        "    以上條件皆不成立時執行的程式碼\n",
        "\n",
        "```"
      ],
      "metadata": {
        "id": "194sq4Ox9Pbd"
      }
    },
    {
      "cell_type": "code",
      "source": [
        "scores=23\n",
        "if scores>=80:\n",
        "  print(\"不就好棒\")\n",
        "elif scores>=60:\n",
        "  print(\"遜\")\n",
        "else:\n",
        "  print(\"嫩\")"
      ],
      "metadata": {
        "id": "HtoPcWgEByH3",
        "outputId": "6ab1e610-0313-4237-fde5-1c6490b813a9",
        "colab": {
          "base_uri": "https://localhost:8080/"
        }
      },
      "execution_count": 57,
      "outputs": [
        {
          "output_type": "stream",
          "name": "stdout",
          "text": [
            "嫩\n"
          ]
        }
      ]
    },
    {
      "cell_type": "code",
      "source": [
        "scores=87\n",
        "if scores<60:\n",
        " print(\"爛\")\n",
        "elif scores<70:\n",
        "  print(\"嫩\")\n",
        "elif scores<80:\n",
        "  print(\"廢\")\n",
        "elif scores<90:\n",
        "  print(\"遜\")\n",
        "else:\n",
        "  print(\"不就好棒\")"
      ],
      "metadata": {
        "id": "7XlH1QgHGWhO",
        "outputId": "c07dca06-a6e5-4696-8cf3-4f9ea4c866d1",
        "colab": {
          "base_uri": "https://localhost:8080/"
        }
      },
      "execution_count": 67,
      "outputs": [
        {
          "output_type": "stream",
          "name": "stdout",
          "text": [
            "遜\n"
          ]
        }
      ]
    }
  ]
}