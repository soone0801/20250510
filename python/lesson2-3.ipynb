{
  "nbformat": 4,
  "nbformat_minor": 0,
  "metadata": {
    "colab": {
      "provenance": [],
      "include_colab_link": true
    },
    "kernelspec": {
      "name": "python3",
      "display_name": "Python 3"
    },
    "language_info": {
      "name": "python"
    }
  },
  "cells": [
    {
      "cell_type": "markdown",
      "metadata": {
        "id": "view-in-github",
        "colab_type": "text"
      },
      "source": [
        "<a href=\"https://colab.research.google.com/github/soone0801/Python/blob/main/python/lesson2-3.ipynb\" target=\"_parent\"><img src=\"https://colab.research.google.com/assets/colab-badge.svg\" alt=\"Open In Colab\"/></a>"
      ]
    },
    {
      "cell_type": "markdown",
      "source": [
        "# python for迴圈的說明\n",
        "\n",
        "---\n",
        "Python 中的 for 迴圈是一種用來遍歷（迭代）集合中每個元素的控制結構，常用於對清單、字串、元組、字典、集合等可迭代物件進行重複操作。其基本語法如下：\n",
        "\n",
        "```\n",
        "for 變數 in 集合:\n",
        "    # 迴圈內要執行的程式碼\n",
        "\n",
        "```"
      ],
      "metadata": {
        "id": "C3QPwIIdQ6jM"
      }
    },
    {
      "cell_type": "code",
      "execution_count": null,
      "metadata": {
        "id": "EE9iDhECQ3zB",
        "outputId": "5773dfc0-7e60-4703-ec40-9ffe94871d59",
        "colab": {
          "base_uri": "https://localhost:8080/"
        }
      },
      "outputs": [
        {
          "output_type": "execute_result",
          "data": {
            "text/plain": [
              "55"
            ]
          },
          "metadata": {},
          "execution_count": 1
        }
      ],
      "source": [
        "#為何要for迴圈\n",
        "#1加到10\n",
        "\n",
        "n = 0\n",
        "n += 1\n",
        "n += 2\n",
        "n += 3\n",
        "n += 4\n",
        "n += 5\n",
        "n += 6\n",
        "n += 7\n",
        "n += 8\n",
        "n += 9\n",
        "n += 10\n",
        "n"
      ]
    },
    {
      "cell_type": "code",
      "source": [
        "x = 0\n",
        "for n in range(1,871):\n",
        "  x += n\n",
        "x"
      ],
      "metadata": {
        "id": "MJngz_rqTGm3",
        "outputId": "ba774f6b-f905-4687-bd72-a196ab1735d7",
        "colab": {
          "base_uri": "https://localhost:8080/"
        }
      },
      "execution_count": null,
      "outputs": [
        {
          "output_type": "execute_result",
          "data": {
            "text/plain": [
              "378885"
            ]
          },
          "metadata": {},
          "execution_count": 7
        }
      ]
    }
  ]
}