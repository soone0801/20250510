{
  "nbformat": 4,
  "nbformat_minor": 0,
  "metadata": {
    "colab": {
      "provenance": [],
      "authorship_tag": "ABX9TyNSfsky/CrIkuXxNIdTtoEx",
      "include_colab_link": true
    },
    "kernelspec": {
      "name": "python3",
      "display_name": "Python 3"
    },
    "language_info": {
      "name": "python"
    }
  },
  "cells": [
    {
      "cell_type": "markdown",
      "metadata": {
        "id": "view-in-github",
        "colab_type": "text"
      },
      "source": [
        "<a href=\"https://colab.research.google.com/github/soone0801/20250510/blob/main/Lesson2/lesson2-4.ipynb\" target=\"_parent\"><img src=\"https://colab.research.google.com/assets/colab-badge.svg\" alt=\"Open In Colab\"/></a>"
      ]
    },
    {
      "cell_type": "markdown",
      "source": [
        "while是無限迴圈 使用在有明確條件但不知道次數時 會有3步驟\n",
        "For in迴圈明確知道執行次數"
      ],
      "metadata": {
        "id": "PYTyp4O48ZIF"
      }
    },
    {
      "cell_type": "markdown",
      "source": [
        "#while迴圈  2關鍵字:break、continue\n",
        "1.count = 1         建立變數\n",
        "\n",
        "2.while count <= 5: 比較變數\n",
        "  print(count)\n",
        "\n",
        "3.count += 1        改變變數"
      ],
      "metadata": {
        "id": "waNoAWe98RF8"
      }
    },
    {
      "cell_type": "code",
      "source": [
        "total = 0\n",
        "while True:\n",
        "  num = int(input(\"請輸入數字:\"))\n",
        "  if num == 0:\n",
        "    break\n",
        "  total += num\n",
        "print(\"總和\",total)\n",
        "\n",
        "total = 0\n",
        "while True:\n",
        "  num = int(input(\"請輸入數字:\"))\n",
        "  if num == 0:\n",
        "    break\n",
        "  total += num\n",
        "print(\"總和\",total)"
      ],
      "metadata": {
        "colab": {
          "base_uri": "https://localhost:8080/"
        },
        "id": "ZuPnO9ZRIBDe",
        "outputId": "a3f7be36-a52d-4a7a-cb9b-918d6c11bd34"
      },
      "execution_count": 18,
      "outputs": [
        {
          "output_type": "stream",
          "name": "stdout",
          "text": [
            "請輸入數字:1\n",
            "請輸入數字:9\n",
            "請輸入數字:8\n",
            "請輸入數字:9\n",
            "請輸入數字:8\n",
            "請輸入數字:1\n",
            "請輸入數字:0\n",
            "總和 36\n",
            "請輸入數字:1\n",
            "請輸入數字:9\n",
            "請輸入數字:8\n",
            "請輸入數字:9\n",
            "請輸入數字:3\n",
            "請輸入數字:9\n",
            "請輸入數字:0\n",
            "總和 39\n"
          ]
        }
      ]
    },
    {
      "cell_type": "code",
      "source": [
        "#PYTHON取得亂數1~8787\n",
        "import random\n",
        "min = 1\n",
        "max = 8787\n",
        "count = 0\n",
        "random_number = random.randint(min,max)\n",
        "print(random_number)\n",
        "#PYTHON取得亂數1~8787\n",
        "import random\n",
        "min = 1\n",
        "max = 8787\n",
        "count = 0\n",
        "random_number = random.randint(min,max)\n",
        "print(random_number)\n",
        "#PYTHON取得亂數1~8787\n",
        "import random\n",
        "min = 1\n",
        "max = 8787\n",
        "count = 0\n",
        "random_number = random.randint(min,max)\n",
        "print(random_number)\n",
        "#PYTHON取得亂數1~8787\n",
        "import random\n",
        "min = 1\n",
        "max = 8787\n",
        "count = 0\n",
        "random_number = random.randint(min,max)\n",
        "print(random_number)\n",
        "print(\"===============猜數字遊戲==================\\n\\n\")\n",
        "while(True):\n",
        "  num = int(input(f\"請輸入數字({min}~{max}:)\"))\n",
        "  count += 1\n",
        "  if num == random_number:\n",
        "    print(\"猜對了\")\n",
        "    print(f\"已經猜了:{count}次\")\n",
        "    break\n",
        "  elif(num>random_number):\n",
        "      print(f\"小\")\n",
        "      max = num - 1\n",
        "  elif(num<random_number):\n",
        "      print(f\"大\")\n",
        "      min = num + 1\n",
        "\n",
        "  print(f\"總共猜了{count}次\")\n",
        "\n",
        "\n",
        "print(\"可以滾了\")\n",
        "    print(\"猜對了\")\n",
        "    print(f\"已經猜了:{count}次\")\n",
        "    break\n",
        "  elif(num>random_number):\n",
        "      print(f\"小\")\n",
        "      max = num - 1\n",
        "  elif(num<random_number):\n",
        "      print(f\"大\")\n",
        "      min = num + 1\n",
        "\n",
        "  print(f\"總共猜了{count}次\")\n",
        "\n",
        "\n",
        "print(\"可以滾了\")\n"
      ],
      "metadata": {
        "colab": {
          "base_uri": "https://localhost:8080/",
          "height": 110
        },
        "id": "01dKDvHtI96-",
        "outputId": "91ae4351-b84e-4b85-a588-1e3382d9232a"
      },
      "execution_count": 94,
      "outputs": [
        {
          "output_type": "error",
          "ename": "IndentationError",
          "evalue": "unindent does not match any outer indentation level (<tokenize>, line 51)",
          "traceback": [
            "\u001b[0;36m  File \u001b[0;32m\"<tokenize>\"\u001b[0;36m, line \u001b[0;32m51\u001b[0m\n\u001b[0;31m    elif(num>random_number):\u001b[0m\n\u001b[0m    ^\u001b[0m\n\u001b[0;31mIndentationError\u001b[0m\u001b[0;31m:\u001b[0m unindent does not match any outer indentation level\n"
          ]
        }
      ]
    },
    {
      "cell_type": "code",
      "source": [
        "import random\n",
        "random_number = random.randint(1,100)\n"
      ],
      "metadata": {
        "id": "pKZVRZR9IrNd"
      },
      "execution_count": 49,
      "outputs": []
    },
    {
      "cell_type": "code",
      "source": [
        "\n",
        "\n",
        "import random\n",
        "random_number = random.randint(1,100)\n"
      ],
      "metadata": {
        "id": "1V3OEe7mIRTd"
      },
      "execution_count": 43,
      "outputs": []
    },
    {
      "cell_type": "code",
      "source": [
        "牙膏 = 8\n",
        "牙刷 = 7\n"
      ],
      "metadata": {
        "id": "8NYzyPUeKybT"
      },
      "execution_count": null,
      "outputs": []
    }
  ]
}