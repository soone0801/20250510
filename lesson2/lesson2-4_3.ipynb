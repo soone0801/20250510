{
  "nbformat": 4,
  "nbformat_minor": 0,
  "metadata": {
    "colab": {
      "provenance": [],
      "include_colab_link": true
    },
    "kernelspec": {
      "name": "python3",
      "display_name": "Python 3"
    },
    "language_info": {
      "name": "python"
    }
  },
  "cells": [
    {
      "cell_type": "markdown",
      "metadata": {
        "id": "view-in-github",
        "colab_type": "text"
      },
      "source": [
        "<a href=\"https://colab.research.google.com/github/soone0801/20250510/blob/main/lesson2/lesson2-4_3.ipynb\" target=\"_parent\"><img src=\"https://colab.research.google.com/assets/colab-badge.svg\" alt=\"Open In Colab\"/></a>"
      ]
    },
    {
      "cell_type": "markdown",
      "source": [
        "# python for迴圈的說明\n",
        "\n",
        "---\n",
        "Python 中的 for 迴圈是一種用來遍歷（迭代）集合中每個元素的控制結構，常用於對清單、字串、元組、字典、集合等可迭代物件進行重複操作。其基本語法如下：\n",
        "\n",
        "```\n",
        "for 變數 in 集合:\n",
        "    # 迴圈內要執行的程式碼\n",
        "\n",
        "```"
      ],
      "metadata": {
        "id": "C3QPwIIdQ6jM"
      }
    },
    {
      "cell_type": "code",
      "execution_count": null,
      "metadata": {
        "id": "EE9iDhECQ3zB",
        "outputId": "5773dfc0-7e60-4703-ec40-9ffe94871d59",
        "colab": {
          "base_uri": "https://localhost:8080/"
        }
      },
      "outputs": [
        {
          "output_type": "execute_result",
          "data": {
            "text/plain": [
              "55"
            ]
          },
          "metadata": {},
          "execution_count": 1
        }
      ],
      "source": [
        "#為何要for迴圈\n",
        "#1加到10\n",
        "\n",
        "n = 0\n",
        "n += 1\n",
        "n += 2\n",
        "n += 3\n",
        "n += 4\n",
        "n += 5\n",
        "n += 6\n",
        "n += 7\n",
        "n += 8\n",
        "n += 9\n",
        "n += 10\n",
        "n"
      ]
    },
    {
      "cell_type": "code",
      "source": [
        "x = 0\n",
        "for n in range(1,871):\n",
        "  x += n\n",
        "x"
      ],
      "metadata": {
        "id": "MJngz_rqTGm3",
        "outputId": "ba774f6b-f905-4687-bd72-a196ab1735d7",
        "colab": {
          "base_uri": "https://localhost:8080/"
        }
      },
      "execution_count": null,
      "outputs": [
        {
          "output_type": "execute_result",
          "data": {
            "text/plain": [
              "378885"
            ]
          },
          "metadata": {},
          "execution_count": 7
        }
      ]
    },
    {
      "cell_type": "markdown",
      "source": [
        "#資料結構\n",
        "List/Dictionary/Set"
      ],
      "metadata": {
        "id": "kju1iSGFtz3W"
      }
    },
    {
      "cell_type": "code",
      "source": [
        "#list\n",
        "for x in [801,9,309,805,629]:\n",
        " print(x)"
      ],
      "metadata": {
        "id": "ulzhCPluuvmH",
        "outputId": "a220488e-3c5f-4792-b3e0-563bdbb57974",
        "colab": {
          "base_uri": "https://localhost:8080/"
        }
      },
      "execution_count": 2,
      "outputs": [
        {
          "output_type": "stream",
          "name": "stdout",
          "text": [
            "801\n",
            "9\n",
            "309\n",
            "805\n",
            "629\n"
          ]
        }
      ]
    },
    {
      "cell_type": "code",
      "source": [
        "#tuple\n",
        "for i in (801,9,309,805,629):\n",
        " print(i)"
      ],
      "metadata": {
        "id": "IKv5uwYjvnso",
        "outputId": "f46fc308-057d-475e-c13d-4e5548900d64",
        "colab": {
          "base_uri": "https://localhost:8080/"
        }
      },
      "execution_count": 5,
      "outputs": [
        {
          "output_type": "stream",
          "name": "stdout",
          "text": [
            "801\n",
            "9\n",
            "309\n",
            "805\n",
            "629\n"
          ]
        }
      ]
    },
    {
      "cell_type": "markdown",
      "source": [
        "# python list和tuple有何差別\n",
        "\n",
        "---\n",
        "\n",
        "Python 中 list（串列）和 tuple（元組）的主要差別如下：\n",
        "\n",
        "- **1 可變性（Mutable vs Immutable）**\n",
        "- list 是可變的（mutable），可以在建立後修改內容，包括新增、刪除、改變元素。\n",
        "- tuple 是不可變的（immutable），一旦建立後，內容無法更改，不能新增、刪除或修改元素。\n",
        "- **2 語法表示**\n",
        "- list 使用中括號 [] 表示，例如：``\n",
        "- tuple 使用小括號 () 表示，例如：`(1, 2, 3)`。\n",
        "- **3性能差異**\n",
        "- tuple 較輕量，因為不可變，佔用較少記憶體且存取速度較快。\n",
        "- list 由於可變，佔用較多記憶體，操作時可能較慢。\n",
        "- **4 使用情境**\n",
        "- list 適合需要頻繁修改資料的場合，如新增或刪除元素。\n",
        "- tuple 適合用於資料不需變動且需保護資料不被意外修改的情況，或作為函式間傳遞不可變資料的結構。\n",
        "\n",
        "- 其他特性\n",
        "- tuple 可用於具名元組（namedtuple），提供類似記錄（record）的功能，便於管理異質資料。\n",
        "- list 支援較多的內建方法，如 append、extend、remove 等，tuple 則不支援這些修改型方法。"
      ],
      "metadata": {
        "id": "ehqeN5HE34i8"
      }
    },
    {
      "cell_type": "markdown",
      "source": [
        "# python 詞典物件介紹\n",
        "\n",
        "---\n",
        "\n",
        "Python 的詞典（Dictionary）是一種非常重要且常用的資料結構，用來儲存一組「鍵（Key）-值（Value）」對，類似於一個關聯陣列或映射表。以下是詞典物件的詳細介紹：\n",
        "\n",
        "#### Python 詞典（Dictionary）介紹\n",
        "**基本概念**\n",
        "\n",
        "- 詞典由多個鍵值對組成，每個鍵對應一個值，透過鍵可以快速存取對應的值。\n",
        "- 鍵必須是不可變的資料型態，如字串、數字或不可變元組（tuple），且鍵在詞典中是唯一的。\n",
        "- 值可以是任意的 Python 物件，包括數字、字串、串列、甚至是另一個詞典。\n",
        "- 詞典本身是可變的，允許新增、修改或刪除鍵值對。\n",
        "- Python 3.7 以後的版本中，詞典保持插入順序（有順序性），但在更早版本中詞典是無序的"
      ],
      "metadata": {
        "id": "mYHrMdPt37Lb"
      }
    },
    {
      "cell_type": "code",
      "source": [
        "desserts = {'Muffin': 39, 'Scone': 25, 'Biscuit': 20}\n",
        "desserts[\"Muffin\"]\n",
        "desserts[\"Scone\"]\n",
        "desserts[\"Biscuit\"]\n",
        "print(desserts[\"Biscuit\"])\n",
        "print(desserts[\"Scone\"])\n",
        "print(desserts[\"Muffin\"])"
      ],
      "metadata": {
        "id": "h20y4irn3z0b",
        "outputId": "d603e9cb-e6d0-4c2b-cb99-286d42854cee",
        "colab": {
          "base_uri": "https://localhost:8080/"
        }
      },
      "execution_count": 32,
      "outputs": [
        {
          "output_type": "stream",
          "name": "stdout",
          "text": [
            "20\n",
            "25\n",
            "39\n"
          ]
        }
      ]
    },
    {
      "cell_type": "code",
      "source": [
        "stu1 = {\"name\":\"rober\",\n",
        "        \"chinese\":66,\n",
        "        \"english\":98,\n",
        "        \"math\":85}\n",
        "\n",
        "stu2 = {\"name\":\"elsa\",\n",
        "        \"chinese\":98,\n",
        "        \"english\":98,\n",
        "        \"math\":96}\n",
        "\n",
        "stu3 = {\"name\":\"jan\",\n",
        "        \"chinese\":85,\n",
        "        \"english\":90,\n",
        "        \"math\":75}"
      ],
      "metadata": {
        "id": "73_z7HjU4Bzz"
      },
      "execution_count": 26,
      "outputs": []
    },
    {
      "cell_type": "code",
      "source": [
        "students = [stu1, stu2, stu3]\n",
        "students"
      ],
      "metadata": {
        "id": "EPGxWfXg4KUc",
        "outputId": "15032347-e26b-4d3f-d3d2-82036d6ffdf0",
        "colab": {
          "base_uri": "https://localhost:8080/"
        }
      },
      "execution_count": 27,
      "outputs": [
        {
          "output_type": "execute_result",
          "data": {
            "text/plain": [
              "[{'name': 'rober', 'chinese': 66, 'english': 98, 'math': 85},\n",
              " {'name': 'elsa', 'chinese': 98, 'english': 98, 'math': 96},\n",
              " {'name': 'jan', 'chinese': 85, 'english': 90, 'math': 75}]"
            ]
          },
          "metadata": {},
          "execution_count": 27
        }
      ]
    },
    {
      "cell_type": "code",
      "source": [
        "for student in students:\n",
        "  print(\"姓名:\",student[\"name\"])\n",
        "  print(\"國文:\",student[\"chinese\"])\n",
        "  print(\"英文:\",student[\"english\"])\n",
        "  print(\"數學:\",student[\"math\"])\n",
        "  print(\"===============\")"
      ],
      "metadata": {
        "id": "emime2S74Mub",
        "outputId": "fce434a8-4dd2-4120-cdec-8781566ef8a6",
        "colab": {
          "base_uri": "https://localhost:8080/"
        }
      },
      "execution_count": 28,
      "outputs": [
        {
          "output_type": "stream",
          "name": "stdout",
          "text": [
            "姓名: rober\n",
            "國文: 66\n",
            "英文: 98\n",
            "數學: 85\n",
            "===============\n",
            "姓名: elsa\n",
            "國文: 98\n",
            "英文: 98\n",
            "數學: 96\n",
            "===============\n",
            "姓名: jan\n",
            "國文: 85\n",
            "英文: 90\n",
            "數學: 75\n",
            "===============\n"
          ]
        }
      ]
    }
  ]
}