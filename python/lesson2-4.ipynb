{
  "nbformat": 4,
  "nbformat_minor": 0,
  "metadata": {
    "colab": {
      "provenance": [],
      "authorship_tag": "ABX9TyPna+fcurdb24Iboj7u6gTT",
      "include_colab_link": true
    },
    "kernelspec": {
      "name": "python3",
      "display_name": "Python 3"
    },
    "language_info": {
      "name": "python"
    }
  },
  "cells": [
    {
      "cell_type": "markdown",
      "metadata": {
        "id": "view-in-github",
        "colab_type": "text"
      },
      "source": [
        "<a href=\"https://colab.research.google.com/github/soone0801/Python/blob/main/python/lesson2-4.ipynb\" target=\"_parent\"><img src=\"https://colab.research.google.com/assets/colab-badge.svg\" alt=\"Open In Colab\"/></a>"
      ]
    },
    {
      "cell_type": "markdown",
      "source": [
        "while是無限迴圈 使用在有明確條件但不知道次數時 會有3步驟\n",
        "For in迴圈明確知道執行次數"
      ],
      "metadata": {
        "id": "PYTyp4O48ZIF"
      }
    },
    {
      "cell_type": "markdown",
      "source": [
        "#while迴圈  2關鍵字:break、continue\n",
        "1.count = 1         建立變數\n",
        "\n",
        "2.while count <= 5: 比較變數\n",
        "  print(count)\n",
        "\n",
        "3.count += 1        改變變數"
      ],
      "metadata": {
        "id": "waNoAWe98RF8"
      }
    },
    {
      "cell_type": "code",
      "source": [
        "total = 0\n",
        "while True:\n",
        "  num = int(input(\"請輸入數字:\"))\n",
        "  if num == 0:\n",
        "    break\n",
        "  total += num\n",
        "print(\"總和\",total)\n",
        "\n",
        "total = 0\n",
        "while True:\n",
        "  num = int(input(\"請輸入數字:\"))\n",
        "  if num == 0:\n",
        "    break\n",
        "  total += num\n",
        "print(\"總和\",total)"
      ],
      "metadata": {
        "colab": {
          "base_uri": "https://localhost:8080/"
        },
        "id": "ZuPnO9ZRIBDe",
        "outputId": "a3f7be36-a52d-4a7a-cb9b-918d6c11bd34"
      },
      "execution_count": null,
      "outputs": [
        {
          "output_type": "stream",
          "name": "stdout",
          "text": [
            "請輸入數字:1\n",
            "請輸入數字:9\n",
            "請輸入數字:8\n",
            "請輸入數字:9\n",
            "請輸入數字:8\n",
            "請輸入數字:1\n",
            "請輸入數字:0\n",
            "總和 36\n",
            "請輸入數字:1\n",
            "請輸入數字:9\n",
            "請輸入數字:8\n",
            "請輸入數字:9\n",
            "請輸入數字:3\n",
            "請輸入數字:9\n",
            "請輸入數字:0\n",
            "總和 39\n"
          ]
        }
      ]
    },
    {
      "cell_type": "code",
      "source": [
        "#PYTHON取得亂數1~8787\n",
        "import random\n",
        "min = 1\n",
        "max = 8787\n",
        "count = 0\n",
        "random_number = random.randint(min,max)\n",
        "print(random_number)\n",
        "print(\"===============猜數字遊戲==================\\n\\n\")\n",
        "while True:\n",
        "  num = int(input(f\"請輸入數字({min}~{max}:)\"))\n",
        "  count += 1\n",
        "  if(num == random_number):\n",
        "    print(\"猜對了\")\n",
        "    print(f\"總共猜了:{count}次\")\n",
        "    break\n",
        "  elif(num>random_number):\n",
        "      print(f\"小\")\n",
        "      max = num - 1\n",
        "  elif(num<random_number):\n",
        "      print(f\"大\")\n",
        "      min = num + 1\n",
        "\n",
        "  print(f\"已經猜了{count}次\")\n",
        "\n",
        "\n",
        "print(\"可以滾了\")"
      ],
      "metadata": {
        "colab": {
          "base_uri": "https://localhost:8080/"
        },
        "id": "01dKDvHtI96-",
        "outputId": "a31d138a-f9a8-45a2-ff82-5552d718b812"
      },
      "execution_count": null,
      "outputs": [
        {
          "output_type": "stream",
          "name": "stdout",
          "text": [
            "2432\n",
            "===============猜數字遊戲==================\n",
            "\n",
            "\n",
            "請輸入數字(1~8787:)8600\n",
            "小\n",
            "已經猜了1次\n",
            "請輸入數字(1~8599:)8500\n",
            "小\n",
            "已經猜了2次\n",
            "請輸入數字(1~8499:)8400\n",
            "小\n",
            "已經猜了3次\n",
            "請輸入數字(1~8399:)8000\n",
            "小\n",
            "已經猜了4次\n",
            "請輸入數字(1~7999:)7000\n",
            "小\n",
            "已經猜了5次\n",
            "請輸入數字(1~6999:)5000\n",
            "小\n",
            "已經猜了6次\n",
            "請輸入數字(1~4999:)2500\n",
            "小\n",
            "已經猜了7次\n",
            "請輸入數字(1~2499:)1200\n",
            "大\n",
            "已經猜了8次\n",
            "請輸入數字(1201~2499:)2000\n",
            "大\n",
            "已經猜了9次\n",
            "請輸入數字(2001~2499:)2200\n",
            "大\n",
            "已經猜了10次\n",
            "請輸入數字(2201~2499:)2300\n",
            "大\n",
            "已經猜了11次\n",
            "請輸入數字(2301~2499:)2400\n",
            "大\n",
            "已經猜了12次\n",
            "請輸入數字(2401~2499:)2450\n",
            "小\n",
            "已經猜了13次\n",
            "請輸入數字(2401~2449:)2435\n",
            "小\n",
            "已經猜了14次\n",
            "請輸入數字(2401~2434:)2415\n",
            "大\n",
            "已經猜了15次\n",
            "請輸入數字(2416~2434:)2430\n",
            "大\n",
            "已經猜了16次\n",
            "請輸入數字(2431~2434:)2432\n",
            "猜對了\n",
            "總共猜了:17次\n",
            "可以滾了\n"
          ]
        }
      ]
    },
    {
      "cell_type": "code",
      "source": [
        "import random\n",
        "random_number = random.randint(1,100)\n",
        "print (random_number)\n"
      ],
      "metadata": {
        "id": "pKZVRZR9IrNd",
        "outputId": "afc8a581-45be-41ab-eac6-73588a66eb7b",
        "colab": {
          "base_uri": "https://localhost:8080/"
        }
      },
      "execution_count": null,
      "outputs": [
        {
          "output_type": "stream",
          "name": "stdout",
          "text": [
            "30\n"
          ]
        }
      ]
    },
    {
      "cell_type": "code",
      "source": [
        "\n",
        "\n",
        "import random\n",
        "random_number = random.randint(1,100)\n"
      ],
      "metadata": {
        "id": "1V3OEe7mIRTd"
      },
      "execution_count": null,
      "outputs": []
    },
    {
      "cell_type": "code",
      "source": [
        "牙膏 = 8\n",
        "牙刷 = 7\n"
      ],
      "metadata": {
        "id": "8NYzyPUeKybT"
      },
      "execution_count": null,
      "outputs": []
    }
  ]
}