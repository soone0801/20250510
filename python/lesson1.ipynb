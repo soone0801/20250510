{
  "nbformat": 4,
  "nbformat_minor": 0,
  "metadata": {
    "colab": {
      "provenance": [],
      "authorship_tag": "ABX9TyP4QBdWzRZmEj3/ll4ZWTDE",
      "include_colab_link": true
    },
    "kernelspec": {
      "name": "python3",
      "display_name": "Python 3"
    },
    "language_info": {
      "name": "python"
    }
  },
  "cells": [
    {
      "cell_type": "markdown",
      "metadata": {
        "id": "view-in-github",
        "colab_type": "text"
      },
      "source": [
        "<a href=\"https://colab.research.google.com/github/soone0801/Python/blob/main/python/lesson1.ipynb\" target=\"_parent\"><img src=\"https://colab.research.google.com/assets/colab-badge.svg\" alt=\"Open In Colab\"/></a>"
      ]
    },
    {
      "cell_type": "markdown",
      "source": [
        "每個儲存格只會顯示最後一行 要全顯示要加print()\n",
        "\n",
        "會導出東西的式子叫做運算式\n",
        "\n",
        "GITHUBMARKDOWN中文版"
      ],
      "metadata": {
        "id": "xtUuSqWWRyia"
      }
    },
    {
      "cell_type": "markdown",
      "source": [
        "# 標題1 **是次方\n",
        "## 標題2 %是算餘數\n",
        "### 標題3 /是含小數點除法\n",
        "#### 標題4 //是僅整數除法\n",
        "##### 標題5\n",
        "###### 標題6\n",
        "####### 標題7\n"
      ],
      "metadata": {
        "id": "3kRTLg3eLisJ"
      }
    },
    {
      "cell_type": "code",
      "execution_count": null,
      "metadata": {
        "colab": {
          "base_uri": "https://localhost:8080/"
        },
        "id": "liDsGNSsB_Sk",
        "outputId": "5bf9c50d-d94c-4bb5-ec93-557410edb2cd"
      },
      "outputs": [
        {
          "output_type": "stream",
          "name": "stdout",
          "text": [
            "Hello! python!\n"
          ]
        }
      ],
      "source": [
        "print(\"Hello! python!\")"
      ]
    },
    {
      "cell_type": "code",
      "source": [
        "print(99**9+45**4)\n",
        "print(36%8)\n",
        "print(80/7)\n",
        "print(80//6)\n",
        "print(52/11)\n",
        "print(4**4)"
      ],
      "metadata": {
        "colab": {
          "base_uri": "https://localhost:8080/"
        },
        "id": "mAXoEzfLQi7p",
        "outputId": "c4936c63-7483-4a4e-e344-71d1f62c0eac"
      },
      "execution_count": null,
      "outputs": [
        {
          "output_type": "stream",
          "name": "stdout",
          "text": [
            "913517247487741524\n",
            "4\n",
            "11.428571428571429\n",
            "13\n",
            "4.7272727272727275\n",
            "256\n"
          ]
        }
      ]
    },
    {
      "cell_type": "code",
      "source": [
        "(3+2)**3/5+2*5+3**3*5-2**4"
      ],
      "metadata": {
        "colab": {
          "base_uri": "https://localhost:8080/"
        },
        "id": "H26W1KEqs57m",
        "outputId": "a00d7aac-ae75-4b99-eacf-65ba0eba88bc"
      },
      "execution_count": null,
      "outputs": [
        {
          "output_type": "execute_result",
          "data": {
            "text/plain": [
              "154.0"
            ]
          },
          "metadata": {},
          "execution_count": 16
        }
      ]
    },
    {
      "cell_type": "markdown",
      "source": [
        "優先順序\n",
        "()\n",
        "\n",
        "**\n",
        "\n",
        "*/%//\n",
        "\n",
        "+-\n",
        "\n",
        "排序最尾是=，=是建立一個變數 不會傳出值 是一個敘述式"
      ],
      "metadata": {
        "id": "85d_amS9t2PV"
      }
    },
    {
      "cell_type": "code",
      "source": [
        "k=(3+2)**3/5+2*5+3**3*5-2**4\n",
        "k=k/7\n",
        "k=k+8\n",
        "k=k/3-1\n",
        "k\n"
      ],
      "metadata": {
        "colab": {
          "base_uri": "https://localhost:8080/"
        },
        "id": "iFzL_gDBxBWA",
        "outputId": "b45ca030-bbc0-45ce-e5e2-4eee87fd5c65"
      },
      "execution_count": null,
      "outputs": [
        {
          "output_type": "execute_result",
          "data": {
            "text/plain": [
              "9.0"
            ]
          },
          "metadata": {},
          "execution_count": 19
        }
      ]
    },
    {
      "cell_type": "markdown",
      "source": [
        "# (*=)複合指定運算子"
      ],
      "metadata": {
        "id": "-1gGM2q619XK"
      }
    },
    {
      "cell_type": "code",
      "source": [
        "k=(3+2)**3/5+2*5+3**3*5-2**4\n",
        "k/=7\n",
        "k+= 8\n",
        "print(k)\n",
        "k/=3\n",
        "k-=1\n",
        "k\n",
        "k\n"
      ],
      "metadata": {
        "colab": {
          "base_uri": "https://localhost:8080/"
        },
        "id": "y6929DmG160x",
        "outputId": "4a5509c7-c996-4dcc-d4a5-3b86a2e67464"
      },
      "execution_count": null,
      "outputs": [
        {
          "output_type": "stream",
          "name": "stdout",
          "text": [
            "30.0\n"
          ]
        },
        {
          "output_type": "execute_result",
          "data": {
            "text/plain": [
              "9.0"
            ]
          },
          "metadata": {},
          "execution_count": 25
        }
      ]
    },
    {
      "cell_type": "markdown",
      "source": [
        "##input()使用"
      ],
      "metadata": {
        "id": "pGo0akjJ7n1B"
      }
    },
    {
      "cell_type": "code",
      "source": [
        "name = input(\"輸入你的名字:\")\n",
        "print(\"你的名字:煞氣a\" + name)\n",
        "print(\"\\033[1;32;37;0m你的名字:煞氣a\" + name + \"\\033[0m\")"
      ],
      "metadata": {
        "colab": {
          "base_uri": "https://localhost:8080/"
        },
        "id": "Ci214N9z7e6i",
        "outputId": "c66de451-f9b7-45e8-c708-e6a7884281e4"
      },
      "execution_count": null,
      "outputs": [
        {
          "output_type": "stream",
          "name": "stdout",
          "text": [
            "輸入你的名字:小牙膏\n",
            "你的名字:煞氣a小牙膏\n",
            "\u001b[1;32;37;0m你的名字:煞氣a小牙膏\u001b[0m\n"
          ]
        }
      ]
    },
    {
      "cell_type": "markdown",
      "source": [
        "python是動態型別"
      ],
      "metadata": {
        "id": "U1Pn43joC0qc"
      }
    },
    {
      "cell_type": "code",
      "source": [
        "naem = input(\"請輸入姓名:\")\n",
        "print(type(name))\n",
        "print(name+5)\n",
        "\n",
        "\n",
        "name = 9\n",
        "print(type(name))\n",
        "name = 9.0\n",
        "print(type(name))"
      ],
      "metadata": {
        "colab": {
          "base_uri": "https://localhost:8080/"
        },
        "id": "WFgWlKxADGAb",
        "outputId": "bbadd96d-4b14-4819-9c83-a903f7453fca"
      },
      "execution_count": null,
      "outputs": [
        {
          "output_type": "stream",
          "name": "stdout",
          "text": [
            "請輸入姓名:U86EL \n",
            "<class 'float'>\n",
            "14.0\n",
            "<class 'int'>\n",
            "<class 'float'>\n"
          ]
        }
      ]
    },
    {
      "cell_type": "markdown",
      "source": [
        "只有數值型別可以數學運算"
      ],
      "metadata": {
        "id": "uC_aGnmHFu-z"
      }
    },
    {
      "cell_type": "code",
      "source": [
        "print(5+5)\n",
        "print(5.0+5.0)\n",
        "print(5+5.0)"
      ],
      "metadata": {
        "colab": {
          "base_uri": "https://localhost:8080/"
        },
        "id": "xVIvw6S7F2sj",
        "outputId": "260437da-4e83-4254-c586-8e9e9f278cdf"
      },
      "execution_count": null,
      "outputs": [
        {
          "output_type": "stream",
          "name": "stdout",
          "text": [
            "10\n",
            "10.0\n",
            "10.0\n"
          ]
        }
      ]
    },
    {
      "cell_type": "markdown",
      "source": [
        "數值和字串無法數學運算"
      ],
      "metadata": {
        "id": "JhS1kGqbGTLz"
      }
    },
    {
      "cell_type": "code",
      "source": [
        "5+\"5\""
      ],
      "metadata": {
        "colab": {
          "base_uri": "https://localhost:8080/",
          "height": 147
        },
        "id": "UAnRJ6JXGaTx",
        "outputId": "33e53362-a1ad-4693-f21f-8ec2411932e8"
      },
      "execution_count": null,
      "outputs": [
        {
          "output_type": "error",
          "ename": "TypeError",
          "evalue": "unsupported operand type(s) for +: 'int' and 'str'",
          "traceback": [
            "\u001b[0;31m---------------------------------------------------------------------------\u001b[0m",
            "\u001b[0;31mTypeError\u001b[0m                                 Traceback (most recent call last)",
            "\u001b[0;32m<ipython-input-54-76085b026109>\u001b[0m in \u001b[0;36m<cell line: 0>\u001b[0;34m()\u001b[0m\n\u001b[0;32m----> 1\u001b[0;31m \u001b[0;36m5\u001b[0m\u001b[0;34m+\u001b[0m\u001b[0;34m\"5\"\u001b[0m\u001b[0;34m\u001b[0m\u001b[0;34m\u001b[0m\u001b[0m\n\u001b[0m",
            "\u001b[0;31mTypeError\u001b[0m: unsupported operand type(s) for +: 'int' and 'str'"
          ]
        }
      ]
    },
    {
      "cell_type": "markdown",
      "source": [
        "字串跟字串可以相加相乘"
      ],
      "metadata": {
        "id": "QQz_9RSNG5HA"
      }
    },
    {
      "cell_type": "code",
      "source": [
        "print(\"5\"+\"5\")\n",
        "\"=\"*20"
      ],
      "metadata": {
        "colab": {
          "base_uri": "https://localhost:8080/",
          "height": 55
        },
        "id": "55oUGyoqG9xo",
        "outputId": "e3bf79bb-2dba-41bf-ce13-8da0556cdd13"
      },
      "execution_count": null,
      "outputs": [
        {
          "output_type": "stream",
          "name": "stdout",
          "text": [
            "55\n"
          ]
        },
        {
          "output_type": "execute_result",
          "data": {
            "text/plain": [
              "'===================='"
            ],
            "application/vnd.google.colaboratory.intrinsic+json": {
              "type": "string"
            }
          },
          "metadata": {},
          "execution_count": 57
        }
      ]
    },
    {
      "cell_type": "markdown",
      "source": [
        "暫時轉換型別"
      ],
      "metadata": {
        "id": "V63JFNspHk82"
      }
    },
    {
      "cell_type": "code",
      "source": [
        "5+float(\"5\")"
      ],
      "metadata": {
        "colab": {
          "base_uri": "https://localhost:8080/"
        },
        "id": "BhHTtZbLHnWl",
        "outputId": "ed02459d-2311-47ba-ae3b-7cf8b0d6d0ee"
      },
      "execution_count": null,
      "outputs": [
        {
          "output_type": "execute_result",
          "data": {
            "text/plain": [
              "10.0"
            ]
          },
          "metadata": {},
          "execution_count": 61
        }
      ]
    },
    {
      "cell_type": "code",
      "source": [
        "width = input(\"輸入長方形的寬:\")\n",
        "print(type(width))\n",
        "width = float(input(\"輸入長方形的寬:\"))\n",
        "print(type(width))\n",
        "width = float(input(\"輸入長方形的寬:\"))\n",
        "height = float(input(\"輸入長方形的高:\"))\n",
        "area = width*height\n",
        "print(\"矩形的面積為:\",area 2)"
      ],
      "metadata": {
        "colab": {
          "base_uri": "https://localhost:8080/"
        },
        "id": "G9MPEl9cHnxO",
        "outputId": "2d0456b7-8712-48d8-ca9b-48ae23ef8128"
      },
      "execution_count": null,
      "outputs": [
        {
          "output_type": "stream",
          "name": "stdout",
          "text": [
            "輸入長方形的寬:20\n",
            "<class 'str'>\n",
            "輸入長方形的寬:20\n",
            "<class 'float'>\n",
            "輸入長方形的寬:20\n",
            "輸入長方形的高:20\n",
            "矩形的面積為: 400.0\n"
          ]
        }
      ]
    },
    {
      "cell_type": "code",
      "source": [
        "20**2+30**2"
      ],
      "metadata": {
        "id": "uodVzzNCMK4J"
      },
      "execution_count": null,
      "outputs": []
    },
    {
      "cell_type": "code",
      "source": [
        "import math\n",
        "side = float(input(\"請輸入對邊:\"))\n",
        "another_side = float(input(\"請輸入對邊:\"))\n",
        "the_other_side = math.sqrt(side**2 + another_side**2)\n",
        "type(the_other_side)\n",
        "print(\"斜邊為:\",the_other_side)"
      ],
      "metadata": {
        "id": "W1gnfKAfMffv",
        "outputId": "a0ca6c95-8cb2-4bf1-e510-aad92bcdeebb",
        "colab": {
          "base_uri": "https://localhost:8080/"
        }
      },
      "execution_count": null,
      "outputs": [
        {
          "output_type": "stream",
          "name": "stdout",
          "text": [
            "請輸入對邊:9\n",
            "請輸入對邊:9\n",
            "斜邊為: 12.727922061357855\n"
          ]
        }
      ]
    }
  ]
}